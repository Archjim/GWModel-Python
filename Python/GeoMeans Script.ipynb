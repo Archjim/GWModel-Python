{
 "cells": [
  {
   "cell_type": "code",
   "execution_count": 1,
   "id": "vocal-julian",
   "metadata": {},
   "outputs": [],
   "source": [
    "import pandas as pd\n",
    "import numpy as np\n",
    "import math\n",
    "from operator import itemgetter"
   ]
  },
  {
   "cell_type": "code",
   "execution_count": 6,
   "id": "gorgeous-trunk",
   "metadata": {},
   "outputs": [],
   "source": [
    "###################################### FUNCTIONS ############################################\n",
    "##Function to caclulate eucilidean distances in tuples\n",
    "def get_distance(data1, data2):\n",
    "    points = zip(data1, data2)\n",
    "    diffs_squared_distance = [pow(a - b, 2) for (a, b) in points]\n",
    "    return math.sqrt(sum(diffs_squared_distance))\n",
    "\n",
    "##Function to calculate Distance from one point to set of points\n",
    "def _get_tuple_distance(training_instance, test_instance):\n",
    "    return (training_instance, get_distance(test_instance, training_instance))\n",
    "\n",
    "##Function to determine Geomean for one sample point\n",
    "def get_geomean_pt(training_set, test_instance, funct, k):\n",
    "    tuples = [tuple(x) for x in training_set.to_numpy()]\n",
    "    distances = [_get_tuple_distance(training_instance, test_instance) for training_instance in tuples]\n",
    " \n",
    "    # index 1 is the calculated distance between training_instance and test_instance\n",
    "    sorted_distances = sorted(distances, key=itemgetter(1))\n",
    " \n",
    "    # extract only training instances\n",
    "    sorted_training_instances = [tuple for tuple in sorted_distances]\n",
    " \n",
    "    # select first k elements\n",
    "    resp = pd.DataFrame(sorted_training_instances[:k])\n",
    "    max_resp = resp.iloc[:,1].max()\n",
    "    if funct == 'bisquared':\n",
    "        resp['Weight'] =  (1-((resp.iloc[:,1]/max_resp)**2))**2 #Bi-squared function\n",
    "    else:\n",
    "        resp['Weight'] =  np.exp(-0.5*((resp.iloc[:,1]/(max_resp*0.9))**2)) #Guassian function\n",
    "    max_weight = resp['Weight'].sum()\n",
    "    resp['StdWeight'] = resp['Weight']/max_weight\n",
    "    resp[['Easting', 'Northing', 'SalePrice']] = pd.DataFrame(resp[0].tolist(), index=resp.index) \n",
    "    resp['WeightPrice'] = resp['StdWeight'] * resp['SalePrice'] \n",
    "    wp = resp['WeightPrice'] .sum()\n",
    "    return  wp\n",
    "\n",
    "##Function to caclulate Geomeans for whole sample grid\n",
    "# data_points is a dataframe containing projected coordinates and variable of interest\n",
    "# samp_points are the points to return a geomean value, best to be a grid of points\n",
    "# varbs are the column names for 1. Easting, 2. Northing, 3. Variable of Interest.n.b. have to be in that order!\n",
    "# funct is decay function (\"bisquared\",\"guassian\") - guassian is default\n",
    "# k is number of points taken for mean\n",
    "def get_geomean_data(data_points, samp_points, varbs, funct,  k):\n",
    " \n",
    "    xsp_nm = data_points.columns\n",
    "    varsp_idx = [data_points.columns.get_loc(col) for col in varbs]\n",
    "    x_coord = data_points.iloc[:,varsp_idx]\n",
    "    \n",
    "    results = []\n",
    "\n",
    "    East_dist = samp_points['Easting'].max() - samp_points['Easting'].min()\n",
    "    North_dist = samp_points['Northing'].max() - samp_points['Northing'].min()\n",
    "\n",
    "    East_dist_sel = East_dist/10\n",
    "    North_dist_sel = North_dist/10\n",
    "\n",
    "    for index, row in samp_points.iterrows():\n",
    "        sample = x_coord.loc[(x_coord['Easting'] >= (row['Easting']- East_dist_sel)) & (x_coord['Easting'] <= (row['Easting'] + East_dist_sel)) & (x_coord['Northing'] >= (row['Northing']- North_dist_sel)) & (x_coord['Northing'] <= (row['Northing'] + North_dist_sel)),]\n",
    "\n",
    "        if sample.shape[0] >= k:\n",
    "            a = get_geomean_pt(sample,row,funct,k)\n",
    "            results.append(a)\n",
    "        else:\n",
    "            a = get_geomean_pt(x_coord,row,funct,k)\n",
    "            results.append(a)       \n",
    "\n",
    "    results_pt = samp_points\n",
    "    results_pt['Geomean'] = results\n",
    "    return results_pt"
   ]
  },
  {
   "cell_type": "code",
   "execution_count": 4,
   "id": "capable-candle",
   "metadata": {},
   "outputs": [],
   "source": [
    "df = pd.read_csv(\"C:\\MyWork\\Python Scripts\\LandReg.csv\")\n",
    "gd = pd.read_csv(\"C:\\MyWork\\Python Scripts\\grid.csv\") "
   ]
  },
  {
   "cell_type": "code",
   "execution_count": 7,
   "id": "novel-germany",
   "metadata": {},
   "outputs": [
    {
     "name": "stdout",
     "output_type": "stream",
     "text": [
      "5min 13s ± 24.4 s per loop (mean ± std. dev. of 7 runs, 1 loop each)\n"
     ]
    }
   ],
   "source": [
    "#Example \n",
    "%timeit  df_results = get_geomean_data(data_points = df,samp_points = gd,varbs = (\"Easting\",\"Northing\",\"SalePrice\") ,funct ='guassian',k=16 )"
   ]
  },
  {
   "cell_type": "code",
   "execution_count": 37,
   "id": "hawaiian-formula",
   "metadata": {},
   "outputs": [],
   "source": [
    "df_results.to_csv(\"C:\\MyWork\\Python Scripts\\geomeans_gua.csv\")"
   ]
  }
 ],
 "metadata": {
  "kernelspec": {
   "display_name": "Python [conda env:data_sci]",
   "language": "python",
   "name": "conda-env-data_sci-py"
  },
  "language_info": {
   "codemirror_mode": {
    "name": "ipython",
    "version": 3
   },
   "file_extension": ".py",
   "mimetype": "text/x-python",
   "name": "python",
   "nbconvert_exporter": "python",
   "pygments_lexer": "ipython3",
   "version": "3.9.7"
  }
 },
 "nbformat": 4,
 "nbformat_minor": 5
}
